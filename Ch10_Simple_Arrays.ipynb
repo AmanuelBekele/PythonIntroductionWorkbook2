{
 "cells": [
  {
   "cell_type": "markdown",
   "metadata": {},
   "source": [
    "## Simple Arrays\n",
    "One of the most fundamental data structures in any language is the array. Python doesn't have a native array data structure, but it has the list which is much more general and can be used as a multidimensional array quite easily.\n",
    "\n",
    "### List Basics\n",
    "<p>A list in Python is just an ordered collection of items which can be of any type. By comparison an array is an ordered collection of items of a single type - so in principle a list is more flexible than an array but it is this flexibility that makes things slightly harder when you want to work with a regular structure. A list is also a dynamic mutable type and this means you can add and delete elements from the list at any time.\n",
    "<p/>\n",
    "To define a list you simply write a comma separated list of items in square brackets:\n",
    "```python\n",
    "myList=[1,2,3,4,5,6]\n",
    "```\n",
    "This looks like an array because you can use \"slicing\" notation to pick out an individual element - indexes start from 0. For example\n",
    "```python\n",
    "print myList[2]\n",
    "```\n",
    "### Task 1: Explain\n",
    "<p>Run the code above and explain what is happening.\n",
    "<p/>\n",
    "*enter your answer here*"
   ]
  },
  {
   "cell_type": "code",
   "execution_count": null,
   "metadata": {},
   "outputs": [],
   "source": []
  },
  {
   "cell_type": "markdown",
   "metadata": {},
   "source": [
    "The slicing notation looks like array indexing but it is a lot more flexible. For example\n",
    "```python\n",
    "myList[2:5]\n",
    "```\n",
    "is a sublist from the third element to the fifth i.e. from myList[2] to myList[4]. notice that the final element specified i.e. [5] is not included in the slice.\n",
    "Also notice that you can leave out either of the start and end indexes and they will be assumed to have their maximum possible value. \n",
    "### Task 2: Slice, slice baby\n",
    "Run the code below and explaine what each is doing:\n",
    "```python\n",
    "myList[5:]\n",
    "myList[:5]\n",
    "myList[:]\n",
    "myList[0:2]=[0,1]\n",
    "```"
   ]
  },
  {
   "cell_type": "code",
   "execution_count": null,
   "metadata": {},
   "outputs": [],
   "source": []
  },
  {
   "cell_type": "markdown",
   "metadata": {},
   "source": [
    "*enter your answer here*\n",
    "\n",
    "<p>So far so good, and it looks as if using a list is as easy as using an array. The first thing that we tend to need to do is to scan through an array and examine values. For example, to find the maximum value (forgetting for a moment that there is a built-in max function)  you could use:\n",
    "</p>\n",
    "```python\n",
    "m=0\n",
    "for e in myList:\n",
    " if m<e:\n",
    "  m=e\n",
    "```\n",
    "This uses the for..in construct to scan through each item in the list. This is a very useful way to access the elements of an array but it isn't the one that most programmers will be familiar with. In most cases arrays are accessed by index and you can do this in Python:\n",
    "```python\n",
    "m=0\n",
    "for i in range(len(myList)):\n",
    " if m<myList[i]:\n",
    "  m=myList[i]\n",
    "```\n",
    "### Task 3: Retail therapy\n",
    "Write a program that creates a shopping list and allows you to search for specific items on it."
   ]
  },
  {
   "cell_type": "code",
   "execution_count": null,
   "metadata": {},
   "outputs": [],
   "source": []
  }
 ],
 "metadata": {
  "kernelspec": {
   "display_name": "Python 3",
   "language": "python",
   "name": "python3"
  },
  "language_info": {
   "codemirror_mode": {
    "name": "ipython",
    "version": 3
   },
   "file_extension": ".py",
   "mimetype": "text/x-python",
   "name": "python",
   "nbconvert_exporter": "python",
   "pygments_lexer": "ipython3",
   "version": "3.5.2"
  }
 },
 "nbformat": 4,
 "nbformat_minor": 2
}
